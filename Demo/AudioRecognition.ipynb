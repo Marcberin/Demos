{
 "cells": [
  {
   "cell_type": "code",
   "execution_count": 1,
   "metadata": {
    "collapsed": false
   },
   "outputs": [
    {
     "name": "stderr",
     "output_type": "stream",
     "text": [
      "//anaconda/lib/python2.7/site-packages/matplotlib/font_manager.py:273: UserWarning: Matplotlib is building the font cache using fc-list. This may take a moment.\n",
      "  warnings.warn('Matplotlib is building the font cache using fc-list. This may take a moment.')\n"
     ]
    },
    {
     "name": "stdout",
     "output_type": "stream",
     "text": [
      "numpy signal: (18432,)\n",
      "noecho signal: (18434,)\n"
     ]
    }
   ],
   "source": [
    "# https://deeplearningcourses.com/c/deep-learning-convolutional-neural-networks-theano-tensorflow\n",
    "# https://udemy.com/deep-learning-convolutional-neural-networks-theano-tensorflow\n",
    "\n",
    "import matplotlib.pyplot as plt\n",
    "import numpy as np\n",
    "import wave\n",
    "import sys\n",
    "\n",
    "from scipy.io.wavfile import write\n",
    "\n",
    "# If you right-click on the file and go to \"Get Info\", you can see:\n",
    "# sampling rate = 16000 Hz\n",
    "# bits per sample = 16\n",
    "# The first is quantization in time\n",
    "# The second is quantization in amplitude\n",
    "# We also do this for images!\n",
    "# 2^16 = 65536 is how many different sound levels we have\n",
    "# 2^8 * 2^8 * 2^8 = 2^24 is how many different colors we can represent\n",
    "\n",
    "spf = wave.open('/Users/bhairavmehta/Downloads/machine_learning_examples-master-3/cnn_class/helloworld.wav', 'r')\n",
    "#Extract Raw Audio from Wav File\n",
    "signal = spf.readframes(-1)\n",
    "signal = np.fromstring(signal, 'Int16')\n",
    "print \"numpy signal:\", signal.shape\n",
    "plt.plot(signal)\n",
    "plt.title(\"Hello world without echo\")\n",
    "\n",
    "delta = np.array([1., 0., 0.])\n",
    "noecho = np.convolve(signal, delta)\n",
    "print \"noecho signal:\", noecho.shape\n",
    "assert(np.abs(noecho[:len(signal)] - signal).sum() < 0.000001)\n",
    "\n",
    "noecho = noecho.astype(np.int16) # make sure you do this, otherwise, you will get VERY LOUD NOISE\n",
    "write('noecho.wav', 16000, noecho)\n",
    "filt = np.zeros(16000)\n",
    "filt[0] = 1\n",
    "filt[4000] = 0.6\n",
    "filt[8000] = 0.3\n",
    "filt[12000] = 0.2\n",
    "filt[15999] = 0.1\n",
    "out = np.convolve(signal, filt)\n",
    "\n",
    "out = out.astype(np.int16) # make sure you do this, otherwise, you will get VERY LOUD NOISE\n",
    "write('out.wav', 16000, out)"
   ]
  },
  {
   "cell_type": "code",
   "execution_count": null,
   "metadata": {
    "collapsed": true
   },
   "outputs": [],
   "source": []
  }
 ],
 "metadata": {
  "kernelspec": {
   "display_name": "Python [Root]",
   "language": "python",
   "name": "Python [Root]"
  },
  "language_info": {
   "codemirror_mode": {
    "name": "ipython",
    "version": 2
   },
   "file_extension": ".py",
   "mimetype": "text/x-python",
   "name": "python",
   "nbconvert_exporter": "python",
   "pygments_lexer": "ipython2",
   "version": "2.7.12"
  }
 },
 "nbformat": 4,
 "nbformat_minor": 0
}
