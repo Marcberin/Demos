{
 "cells": [
  {
   "cell_type": "code",
   "execution_count": null,
   "metadata": {
    "collapsed": false
   },
   "outputs": [
    {
     "name": "stdout",
     "output_type": "stream",
     "text": [
      "B: Hello!\n"
     ]
    }
   ],
   "source": [
    "import re\n",
    "import sqlite3\n",
    "from collections import Counter\n",
    "from string import punctuation\n",
    "from math import sqrt\n",
    " \n",
    "# initialize the connection to the database\n",
    "connection = sqlite3.connect('chatbot5.sqlite')\n",
    "cursor = connection.cursor()\n",
    " \n",
    "# create the tables needed by the program\n",
    "try:\n",
    "    # create the table containing the words\n",
    "    cursor.execute('''\n",
    "        CREATE TABLE words (\n",
    "            word TEXT UNIQUE\n",
    "        )\n",
    "    ''')\n",
    "    # create the table containing the sentences\n",
    "    cursor.execute('''\n",
    "        CREATE TABLE sentences (\n",
    "            sentence TEXT UNIQUE,\n",
    "            used INT NOT NULL DEFAULT 0\n",
    "        )''')\n",
    "    # create association between weighted words and the next sentence\n",
    "    cursor.execute('''\n",
    "        CREATE TABLE associations (\n",
    "            word_id INT NOT NULL,\n",
    "            sentence_id INT NOT NULL,\n",
    "            weight REAL NOT NULL)\n",
    "    ''')\n",
    "except:\n",
    "    pass\n",
    " \n",
    "def get_id(entityName, text):\n",
    "    \"\"\"Retrieve an entity's unique ID from the database, given its associated text.\n",
    "    If the row is not already present, it is inserted.\n",
    "    The entity can either be a sentence or a word.\"\"\"\n",
    "    tableName = entityName + 's'\n",
    "    columnName = entityName\n",
    "    cursor.execute('SELECT rowid FROM ' + tableName + ' WHERE ' + columnName + ' = ?', (text,))\n",
    "    row = cursor.fetchone()\n",
    "    if row:\n",
    "        return row[0]\n",
    "    else:\n",
    "        cursor.execute('INSERT INTO ' + tableName + ' (' + columnName + ') VALUES (?)', (text,))\n",
    "        return cursor.lastrowid\n",
    " \n",
    "def get_words(text):\n",
    "    \"\"\"Retrieve the words present in a given string of text.\n",
    "    The return value is a list of tuples where the first member is a lowercase word,\n",
    "    and the second member the number of time it is present in the text.\"\"\"\n",
    "    wordsRegexpString = '(?:\\w+|[' + re.escape(punctuation) + ']+)'\n",
    "    wordsRegexp = re.compile(wordsRegexpString)\n",
    "    wordsList = wordsRegexp.findall(text.lower())\n",
    "    return Counter(wordsList).items()\n",
    " \n",
    " \n",
    "B = 'Hello!'\n",
    "while True:\n",
    "    # output bot's message\n",
    "    print('B: ' + B)\n",
    "    # ask for user input; if blank line, exit the loop\n",
    "    H = raw_input('H: ').strip()\n",
    "    if H == '':\n",
    "        break\n",
    "    # store the association between the bot's message words and the user's response\n",
    "    words = get_words(B)\n",
    "    words_length = sum([n * len(word) for word, n in words])\n",
    "    sentence_id = get_id('sentence', H)\n",
    "    for word, n in words:\n",
    "        word_id = get_id('word', word)\n",
    "        weight = sqrt(n / float(words_length))\n",
    "        cursor.execute('INSERT INTO associations VALUES (?, ?, ?)', (word_id, sentence_id, weight))\n",
    "    connection.commit()\n",
    "    # retrieve the most likely answer from the database\n",
    "    cursor.execute('CREATE TEMPORARY TABLE results(sentence_id INT, sentence TEXT, weight REAL)')\n",
    "    words = get_words(H)\n",
    "    words_length = sum([n * len(word) for word, n in words])\n",
    "    for word, n in words:\n",
    "        weight = sqrt(n / float(words_length))\n",
    "        cursor.execute('INSERT INTO results SELECT associations.sentence_id, sentences.sentence, ?*associations.weight/(4+sentences.used) FROM words INNER JOIN associations ON associations.word_id=words.rowid INNER JOIN sentences ON sentences.rowid=associations.sentence_id WHERE words.word=?', (weight, word,))\n",
    "    # if matches were found, give the best one\n",
    "    cursor.execute('SELECT sentence_id, sentence, SUM(weight) AS sum_weight FROM results GROUP BY sentence_id ORDER BY sum_weight DESC LIMIT 1')\n",
    "    row = cursor.fetchone()\n",
    "    cursor.execute('DROP TABLE results')\n",
    "    # otherwise, just randomly pick one of the least used sentences\n",
    "    if row is None:\n",
    "        cursor.execute('SELECT rowid, sentence FROM sentences WHERE used = (SELECT MIN(used) FROM sentences) ORDER BY RANDOM() LIMIT 1')\n",
    "        row = cursor.fetchone()\n",
    "    # tell the database the sentence has been used once more, and prepare the sentence\n",
    "    B = row[1]\n",
    "    cursor.execute('UPDATE sentences SET used=used+1 WHERE rowid=?', (row[0],))"
   ]
  },
  {
   "cell_type": "code",
   "execution_count": null,
   "metadata": {
    "collapsed": true
   },
   "outputs": [],
   "source": []
  }
 ],
 "metadata": {
  "kernelspec": {
   "display_name": "Python [Root]",
   "language": "python",
   "name": "Python [Root]"
  },
  "language_info": {
   "codemirror_mode": {
    "name": "ipython",
    "version": 2
   },
   "file_extension": ".py",
   "mimetype": "text/x-python",
   "name": "python",
   "nbconvert_exporter": "python",
   "pygments_lexer": "ipython2",
   "version": "2.7.12"
  }
 },
 "nbformat": 4,
 "nbformat_minor": 0
}
